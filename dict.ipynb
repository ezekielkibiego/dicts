{
 "cells": [
  {
   "cell_type": "markdown",
   "metadata": {},
   "source": [
    "- A built-in data structure that maps keys to values\n",
    "- Each key is unique and associated with a value\n"
   ]
  },
  {
   "cell_type": "code",
   "execution_count": 1,
   "metadata": {},
   "outputs": [
    {
     "name": "stdout",
     "output_type": "stream",
     "text": [
      "Hello World!\n"
     ]
    }
   ],
   "source": [
    "# dictionary_name = {\n",
    "#     key1: value1,\n",
    "#     key2: value2,\n",
    "# }"
   ]
  },
  {
   "cell_type": "code",
   "execution_count": 22,
   "metadata": {},
   "outputs": [
    {
     "name": "stdout",
     "output_type": "stream",
     "text": [
      "{'Mary': 90, 'John': 87, 'Paul': 92, 'Ahmed': 91}\n",
      "90\n",
      "91\n",
      "{'Mary': 90, 'John': 87, 'Paul': 92, 'Ahmed': 91, 'Amina': 89}\n",
      "{'Mary': 90, 'John': 95, 'Paul': 92, 'Ahmed': 91, 'Amina': 89}\n",
      "{'Mary': 90, 'John': 95, 'Ahmed': 91, 'Amina': 89}\n",
      "91\n",
      "{'Mary': 90, 'John': 95, 'Amina': 89}\n",
      "Mary\n",
      "John\n",
      "Amina\n",
      "90\n",
      "95\n",
      "89\n",
      "Mary: 90\n",
      "John: 95\n",
      "Amina: 89\n",
      "Mary's grade is available\n"
     ]
    }
   ],
   "source": [
    "student_grades = {\n",
    "    'Mary': 90,\n",
    "    'John': 87,\n",
    "    'Paul': 92,\n",
    "    'Ahmed': 91,\n",
    "   \n",
    "}\n",
    "\n",
    "print(student_grades) # All students' grades\n",
    "print(student_grades['Mary']) # using square brackets to get single data\n",
    "print(student_grades.get('Ahmed')) # Using get() method\n",
    "\n",
    "# adding a new entry\n",
    "student_grades['Amina'] = 89\n",
    "print(student_grades)\n",
    "\n",
    "# update an existing entry\n",
    "student_grades['John'] = 95\n",
    "print(student_grades)\n",
    "\n",
    "# delete an entry\n",
    "del student_grades['Paul']\n",
    "print(student_grades)\n",
    "\n",
    "# delete using pop()\n",
    "grade = student_grades.pop('Ahmed')\n",
    "print(grade)\n",
    "print(student_grades)\n",
    "\n",
    "# Iterate through keys\n",
    "for student in student_grades:\n",
    "    print(student)\n",
    "\n",
    "# Iterate through values\n",
    "for grade in student_grades.values():\n",
    "    print(grade)\n",
    "\n",
    "# Iterate through key-value pairs\n",
    "for student, grade in student_grades.items():\n",
    "    print(f\"{student}: {grade}\")\n",
    "    \n",
    "# Checking for keys\n",
    "if 'Mary' in student_grades:\n",
    "    print(\"Mary's grade is available\")\n",
    "else:\n",
    "    print(\"Mary's grade is not available\")"
   ]
  },
  {
   "cell_type": "code",
   "execution_count": 27,
   "metadata": {},
   "outputs": [
    {
     "name": "stdout",
     "output_type": "stream",
     "text": [
      "{'John Doe': {'phone_number': '0722777333', 'email': 'johndoe@gmail.com'}, 'Jane Smith': {'phone_number': '0724555333', 'email': 'janesmith@gmail.com'}, 'Amina Mohammed': {'phone_number': '0722777111', 'email': 'aminam@gmail.com'}}\n",
      "0722777333\n",
      "\n",
      "Name: John Doe\n",
      "Phone Number: 0722777333\n",
      "Email: johndoe@gmail.com\n",
      "\n",
      "\n",
      "Name: Jane Smith\n",
      "Phone Number: 0724555333\n",
      "Email: janesmith@gmail.com\n",
      "\n",
      "\n",
      "Name: Amina Mohammed\n",
      "Phone Number: 0722777111\n",
      "Email: aminam@gmail.com\n",
      "\n"
     ]
    }
   ],
   "source": [
    "contacts = {\n",
    "    'John Doe': {'phone_number': '0722777333', 'email': 'johndoe@gmail.com'},\n",
    "    'Jane Smith': {'phone_number': '0724555333', 'email': 'janesmith@gmail.com'},\n",
    "    'Amina Mohammed': {'phone_number': '0722777111', 'email': 'aminam@gmail.com'}\n",
    "}\n",
    "\n",
    "print(contacts)\n",
    "print(contacts['John Doe']['phone_number'])\n",
    "\n",
    "for name, details in contacts.items():\n",
    "    phone_number = details['phone_number']\n",
    "    email = details['email']\n",
    "    print()\n",
    "    print(f'Name: {name}')\n",
    "    print(f'Phone Number: {phone_number}')\n",
    "    print(f'Email: {email}')\n",
    "    print()"
   ]
  },
  {
   "cell_type": "code",
   "execution_count": 28,
   "metadata": {},
   "outputs": [
    {
     "name": "stdout",
     "output_type": "stream",
     "text": [
      "499.99\n"
     ]
    }
   ],
   "source": [
    "products = {\n",
    "    'P001': {'name': 'Laptop', 'price': 999.99, 'stock': 50},\n",
    "    'P002': {'name': 'Smartphone', 'price': 499.99, 'stock': 150},\n",
    "    'P003': {'name': 'Headphones', 'price': 89.99, 'stock': 200}\n",
    "}\n",
    "\n",
    "# Accessing price of product 'P002'\n",
    "print(products['P002']['price'])  # Output: 499.99\n"
   ]
  },
  {
   "cell_type": "code",
   "execution_count": 29,
   "metadata": {},
   "outputs": [
    {
     "name": "stdout",
     "output_type": "stream",
     "text": [
      "{'spaghetti': '200g', 'tomato sauce': '1 cup', 'ground beef': '250g', 'onion': '1'}\n"
     ]
    }
   ],
   "source": [
    "recipes = {\n",
    "    'Pancakes': {'flour': '1 cup', 'milk': '1 cup', 'egg': '1', 'baking powder': '2 tsp'},\n",
    "    'Spaghetti': {'spaghetti': '200g', 'tomato sauce': '1 cup', 'ground beef': '250g', 'onion': '1'},\n",
    "    'Salad': {'lettuce': '1 head', 'tomato': '2', 'cucumber': '1', 'olive oil': '2 tbsp'}\n",
    "}\n",
    "\n",
    "# Accessing ingredients for 'Spaghetti'\n",
    "print(recipes['Spaghetti'])  # Output: {'spaghetti': '200g', 'tomato sauce': '1 cup', 'ground beef': '250g', 'onion': '1'}\n"
   ]
  },
  {
   "cell_type": "code",
   "execution_count": 30,
   "metadata": {},
   "outputs": [
    {
     "name": "stdout",
     "output_type": "stream",
     "text": [
      "Product Manager\n"
     ]
    }
   ],
   "source": [
    "employee_directory = {\n",
    "    'E001': {'name': 'Alice Johnson', 'position': 'Software Engineer', 'email': 'alice.johnson@company.com'},\n",
    "    'E002': {'name': 'Bob Smith', 'position': 'Product Manager', 'email': 'bob.smith@company.com'},\n",
    "    'E003': {'name': 'Charlie Brown', 'position': 'UX Designer', 'email': 'charlie.brown@company.com'}\n",
    "}\n",
    "\n",
    "# Accessing position of employee 'E002'\n",
    "print(employee_directory['E002']['position'])  # Output: Product Manager\n"
   ]
  },
  {
   "cell_type": "markdown",
   "metadata": {},
   "source": [
    "## Sets"
   ]
  },
  {
   "cell_type": "code",
   "execution_count": 62,
   "metadata": {},
   "outputs": [
    {
     "name": "stdout",
     "output_type": "stream",
     "text": [
      "{'grapes', 'apple', 'orange', 'banana'}\n",
      "{'grapes', 'orange', 'lemon', 'apple', 'banana'}\n",
      "{'orange', 'lemon', 'apple', 'banana'}\n",
      "{'orange', 'lemon', 'apple', 'banana'}\n",
      "{1, 2, 3, 4}\n"
     ]
    }
   ],
   "source": [
    "# set_name = {element1, element2, ...}\n",
    "\n",
    "fruits = {'banana', 'orange', 'apple', 'grapes'}\n",
    "print(fruits)\n",
    "\n",
    "fruits.add('lemon')\n",
    "print(fruits)\n",
    "\n",
    "fruits.remove('grapes')\n",
    "print(fruits)\n",
    "\n",
    "fruits.discard('mango')\n",
    "print(fruits)\n",
    "\n",
    "\n",
    "numbers = set([1, 2, 3, 4])\n",
    "print(numbers)"
   ]
  },
  {
   "cell_type": "code",
   "execution_count": 63,
   "metadata": {},
   "outputs": [
    {
     "name": "stdout",
     "output_type": "stream",
     "text": [
      "{1, 2, 3, 4, 5}\n"
     ]
    }
   ],
   "source": [
    "set1 = {1, 2, 3}\n",
    "set2 = {3, 4, 5}\n",
    "union_set = set1 | set2\n",
    "print(union_set)\n"
   ]
  },
  {
   "cell_type": "code",
   "execution_count": 64,
   "metadata": {},
   "outputs": [
    {
     "name": "stdout",
     "output_type": "stream",
     "text": [
      "{3}\n"
     ]
    }
   ],
   "source": [
    "intersection_set = set1 & set2\n",
    "print(intersection_set)"
   ]
  },
  {
   "cell_type": "code",
   "execution_count": 65,
   "metadata": {},
   "outputs": [
    {
     "name": "stdout",
     "output_type": "stream",
     "text": [
      "{1, 2}\n"
     ]
    }
   ],
   "source": [
    "difference_set = set1 - set2 \n",
    "print(difference_set)"
   ]
  }
 ],
 "metadata": {
  "kernelspec": {
   "display_name": "Python 3",
   "language": "python",
   "name": "python3"
  },
  "language_info": {
   "codemirror_mode": {
    "name": "ipython",
    "version": 3
   },
   "file_extension": ".py",
   "mimetype": "text/x-python",
   "name": "python",
   "nbconvert_exporter": "python",
   "pygments_lexer": "ipython3",
   "version": "3.12.3"
  }
 },
 "nbformat": 4,
 "nbformat_minor": 2
}
